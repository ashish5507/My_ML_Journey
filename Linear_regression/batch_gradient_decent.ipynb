{
 "cells": [
  {
   "cell_type": "code",
   "execution_count": 1,
   "id": "0bf2ff0f-625b-480e-831c-ece37750b1a5",
   "metadata": {},
   "outputs": [],
   "source": [
    "import pandas as pd"
   ]
  },
  {
   "cell_type": "code",
   "execution_count": 2,
   "id": "800eb01a-f0c9-4c62-a9d7-29732a4e8a54",
   "metadata": {},
   "outputs": [],
   "source": [
    "import numpy as np\n",
    "import matplotlib.pyplot as plt\n",
    "import seaborn as sns\n",
    "import sklearn\n",
    "from sklearn.datasets import make_regression"
   ]
  },
  {
   "cell_type": "code",
   "execution_count": 3,
   "id": "bc4869ee-a742-458d-9ffe-0080288045f2",
   "metadata": {},
   "outputs": [],
   "source": [
    "x,y = make_regression(n_samples=100, n_features=1, n_informative=1, n_targets=1,noise=20,random_state=13)\n"
   ]
  },
  {
   "cell_type": "code",
   "execution_count": 4,
   "id": "45f26a06-c8d8-477c-ba6f-ca41471cdb2f",
   "metadata": {},
   "outputs": [
    {
     "data": {
      "text/plain": [
       "<matplotlib.collections.PathCollection at 0x7f1b306cba10>"
      ]
     },
     "execution_count": 4,
     "metadata": {},
     "output_type": "execute_result"
    },
    {
     "data": {
      "image/png": "[encoded data removed]",
      "text/plain": [
       "<Figure size 640x480 with 1 Axes>"
      ]
     },
     "metadata": {},
     "output_type": "display_data"
    }
   ],
   "source": [
    "plt.scatter(x,y)"
   ]
  },
  {
   "cell_type": "code",
   "execution_count": 5,
   "id": "0c0d3890-1fc4-4a61-8c7d-c9042c3fa02c",
   "metadata": {},
   "outputs": [
    {
     "data": {
      "text/plain": [
       "(100, 1)"
      ]
     },
     "execution_count": 5,
     "metadata": {},
     "output_type": "execute_result"
    }
   ],
   "source": [
    "x.shape"
   ]
  },
  {
   "cell_type": "code",
   "execution_count": 6,
   "id": "73681ae1-551d-4d16-a9fd-fb5c312c9877",
   "metadata": {},
   "outputs": [
    {
     "data": {
      "text/plain": [
       "(100,)"
      ]
     },
     "execution_count": 6,
     "metadata": {},
     "output_type": "execute_result"
    }
   ],
   "source": [
    "y.shape"
   ]
  },
  {
   "cell_type": "code",
   "execution_count": 7,
   "id": "c19d266a-a637-4602-83f4-897c77005986",
   "metadata": {},
   "outputs": [],
   "source": [
    "from sklearn.model_selection import train_test_split"
   ]
  },
  {
   "cell_type": "code",
   "execution_count": 8,
   "id": "2f0995c9-4fa1-4f50-87c8-609f620c515f",
   "metadata": {},
   "outputs": [],
   "source": [
    "x_train, x_test, y_train, y_test = train_test_split(x,y,test_size=0.2, random_state=42)"
   ]
  },
  {
   "cell_type": "code",
   "execution_count": 9,
   "id": "35096267-91f2-436a-957c-8d4d503d1080",
   "metadata": {},
   "outputs": [
    {
     "data": {
      "text/plain": [
       "(20,)"
      ]
     },
     "execution_count": 9,
     "metadata": {},
     "output_type": "execute_result"
    }
   ],
   "source": [
    "x_test.ravel().shape"
   ]
  },
  {
   "cell_type": "code",
   "execution_count": 10,
   "id": "2d6ea7a5-e72e-4d73-aea8-d859351675c6",
   "metadata": {},
   "outputs": [],
   "source": [
    "from sklearn.linear_model import LinearRegression"
   ]
  },
  {
   "cell_type": "code",
   "execution_count": 11,
   "id": "7737764c-ba40-4db1-8cdc-168bbe585c8f",
   "metadata": {},
   "outputs": [],
   "source": [
    "lr = LinearRegression()"
   ]
  },
  {
   "cell_type": "code",
   "execution_count": 12,
   "id": "6c69813e-663e-4868-b441-899b1b31bb3b",
   "metadata": {},
   "outputs": [
    {
     "data": {
      "text/html": [
       "<style>#sk-container-id-1 {\n",
       "  /* Definition of color scheme common for light and dark mode */\n",
       "  --sklearn-color-text: #000;\n",
       "  --sklearn-color-text-muted: #666;\n",
       "  --sklearn-color-line: gray;\n",
       "  /* Definition of color scheme for unfitted estimators */\n",
       "  --sklearn-color-unfitted-level-0: #fff5e6;\n",
       "  --sklearn-color-unfitted-level-1: #f6e4d2;\n",
       "  --sklearn-color-unfitted-level-2: #ffe0b3;\n",
       "  --sklearn-color-unfitted-level-3: chocolate;\n",
       "  /* Definition of color scheme for fitted estimators */\n",
       "  --sklearn-color-fitted-level-0: #f0f8ff;\n",
       "  --sklearn-color-fitted-level-1: #d4ebff;\n",
       "  --sklearn-color-fitted-level-2: #b3dbfd;\n",
       "  --sklearn-color-fitted-level-3: cornflowerblue;\n",
       "\n",
       "  /* Specific color for light theme */\n",
       "  --sklearn-color-text-on-default-background: var(--sg-text-color, var(--theme-code-foreground, var(--jp-content-font-color1, black)));\n",
       "  --sklearn-color-background: var(--sg-background-color, var(--theme-background, var(--jp-layout-color0, white)));\n",
       "  --sklearn-color-border-box: var(--sg-text-color, var(--theme-code-foreground, var(--jp-content-font-color1, black)));\n",
       "  --sklearn-color-icon: #696969;\n",
       "\n",
       "  @media (prefers-color-scheme: dark) {\n",
       "    /* Redefinition of color scheme for dark theme */\n",
       "    --sklearn-color-text-on-default-background: var(--sg-text-color, var(--theme-code-foreground, var(--jp-content-font-color1, white)));\n",
       "    --sklearn-color-background: var(--sg-background-color, var(--theme-background, var(--jp-layout-color0, #111)));\n",
       "    --sklearn-color-border-box: var(--sg-text-color, var(--theme-code-foreground, var(--jp-content-font-color1, white)));\n",
       "    --sklearn-color-icon: #878787;\n",
       "  }\n",
       "}\n",
       "\n",
       "#sk-container-id-1 {\n",
       "  color: var(--sklearn-color-text);\n",
       "}\n",
       "\n",
       "#sk-container-id-1 pre {\n",
       "  padding: 0;\n",
       "}\n",
       "\n",
       "#sk-container-id-1 input.sk-hidden--visually {\n",
       "  border: 0;\n",
       "  clip: rect(1px 1px 1px 1px);\n",
       "  clip: rect(1px, 1px, 1px, 1px);\n",
       "  height: 1px;\n",
       "  margin: -1px;\n",
       "  overflow: hidden;\n",
       "  padding: 0;\n",
       "  position: absolute;\n",
       "  width: 1px;\n",
       "}\n",
       "\n",
       "#sk-container-id-1 div.sk-dashed-wrapped {\n",
       "  border: 1px dashed var(--sklearn-color-line);\n",
       "  margin: 0 0.4em 0.5em 0.4em;\n",
       "  box-sizing: border-box;\n",
       "  padding-bottom: 0.4em;\n",
       "  background-color: var(--sklearn-color-background);\n",
       "}\n",
       "\n",
       "#sk-container-id-1 div.sk-container {\n",
       "  /* jupyter's `normalize.less` sets `[hidden] { display: none; }`\n",
       "     but bootstrap.min.css set `[hidden] { display: none !important; }`\n",
       "     so we also need the `!important` here to be able to override the\n",
       "     default hidden behavior on the sphinx rendered scikit-learn.org.\n",
       "     See: https://github.com/scikit-learn/scikit-learn/issues/21755 */\n",
       "  display: inline-block !important;\n",
       "  position: relative;\n",
       "}\n",
       "\n",
       "#sk-container-id-1 div.sk-text-repr-fallback {\n",
       "  display: none;\n",
       "}\n",
       "\n",
       "div.sk-parallel-item,\n",
       "div.sk-serial,\n",
       "div.sk-item {\n",
       "  /* draw centered vertical line to link estimators */\n",
       "  background-image: linear-gradient(var(--sklearn-color-text-on-default-background), var(--sklearn-color-text-on-default-background));\n",
       "  background-size: 2px 100%;\n",
       "  background-repeat: no-repeat;\n",
       "  background-position: center center;\n",
       "}\n",
       "\n",
       "/* Parallel-specific style estimator block */\n",
       "\n",
       "#sk-container-id-1 div.sk-parallel-item::after {\n",
       "  content: \"\";\n",
       "  width: 100%;\n",
       "  border-bottom: 2px solid var(--sklearn-color-text-on-default-background);\n",
       "  flex-grow: 1;\n",
       "}\n",
       "\n",
       "#sk-container-id-1 div.sk-parallel {\n",
       "  display: flex;\n",
       "  align-items: stretch;\n",
       "  justify-content: center;\n",
       "  background-color: var(--sklearn-color-background);\n",
       "  position: relative;\n",
       "}\n",
       "\n",
       "#sk-container-id-1 div.sk-parallel-item {\n",
       "  display: flex;\n",
       "  flex-direction: column;\n",
       "}\n",
       "\n",
       "#sk-container-id-1 div.sk-parallel-item:first-child::after {\n",
       "  align-self: flex-end;\n",
       "  width: 50%;\n",
       "}\n",
       "\n",
       "#sk-container-id-1 div.sk-parallel-item:last-child::after {\n",
       "  align-self: flex-start;\n",
       "  width: 50%;\n",
       "}\n",
       "\n",
       "#sk-container-id-1 div.sk-parallel-item:only-child::after {\n",
       "  width: 0;\n",
       "}\n",
       "\n",
       "/* Serial-specific style estimator block */\n",
       "\n",
       "#sk-container-id-1 div.sk-serial {\n",
       "  display: flex;\n",
       "  flex-direction: column;\n",
       "  align-items: center;\n",
       "  background-color: var(--sklearn-color-background);\n",
       "  padding-right: 1em;\n",
       "  padding-left: 1em;\n",
       "}\n",
       "\n",
       "\n",
       "/* Toggleable style: style used for estimator/Pipeline/ColumnTransformer box that is\n",
       "clickable and can be expanded/collapsed.\n",
       "- Pipeline and ColumnTransformer use this feature and define the default style\n",
       "- Estimators will overwrite some part of the style using the `sk-estimator` class\n",
       "*/\n",
       "\n",
       "/* Pipeline and ColumnTransformer style (default) */\n",
       "\n",
       "#sk-container-id-1 div.sk-toggleable {\n",
       "  /* Default theme specific background. It is overwritten whether we have a\n",
       "  specific estimator or a Pipeline/ColumnTransformer */\n",
       "  background-color: var(--sklearn-color-background);\n",
       "}\n",
       "\n",
       "/* Toggleable label */\n",
       "#sk-container-id-1 label.sk-toggleable__label {\n",
       "  cursor: pointer;\n",
       "  display: flex;\n",
       "  width: 100%;\n",
       "  margin-bottom: 0;\n",
       "  padding: 0.5em;\n",
       "  box-sizing: border-box;\n",
       "  text-align: center;\n",
       "  align-items: start;\n",
       "  justify-content: space-between;\n",
       "  gap: 0.5em;\n",
       "}\n",
       "\n",
       "#sk-container-id-1 label.sk-toggleable__label .caption {\n",
       "  font-size: 0.6rem;\n",
       "  font-weight: lighter;\n",
       "  color: var(--sklearn-color-text-muted);\n",
       "}\n",
       "\n",
       "#sk-container-id-1 label.sk-toggleable__label-arrow:before {\n",
       "  /* Arrow on the left of the label */\n",
       "  content: \"▸\";\n",
       "  float: left;\n",
       "  margin-right: 0.25em;\n",
       "  color: var(--sklearn-color-icon);\n",
       "}\n",
       "\n",
       "#sk-container-id-1 label.sk-toggleable__label-arrow:hover:before {\n",
       "  color: var(--sklearn-color-text);\n",
       "}\n",
       "\n",
       "/* Toggleable content - dropdown */\n",
       "\n",
       "#sk-container-id-1 div.sk-toggleable__content {\n",
       "  max-height: 0;\n",
       "  max-width: 0;\n",
       "  overflow: hidden;\n",
       "  text-align: left;\n",
       "  /* unfitted */\n",
       "  background-color: var(--sklearn-color-unfitted-level-0);\n",
       "}\n",
       "\n",
       "#sk-container-id-1 div.sk-toggleable__content.fitted {\n",
       "  /* fitted */\n",
       "  background-color: var(--sklearn-color-fitted-level-0);\n",
       "}\n",
       "\n",
       "#sk-container-id-1 div.sk-toggleable__content pre {\n",
       "  margin: 0.2em;\n",
       "  border-radius: 0.25em;\n",
       "  color: var(--sklearn-color-text);\n",
       "  /* unfitted */\n",
       "  background-color: var(--sklearn-color-unfitted-level-0);\n",
       "}\n",
       "\n",
       "#sk-container-id-1 div.sk-toggleable__content.fitted pre {\n",
       "  /* unfitted */\n",
       "  background-color: var(--sklearn-color-fitted-level-0);\n",
       "}\n",
       "\n",
       "#sk-container-id-1 input.sk-toggleable__control:checked~div.sk-toggleable__content {\n",
       "  /* Expand drop-down */\n",
       "  max-height: 200px;\n",
       "  max-width: 100%;\n",
       "  overflow: auto;\n",
       "}\n",
       "\n",
       "#sk-container-id-1 input.sk-toggleable__control:checked~label.sk-toggleable__label-arrow:before {\n",
       "  content: \"▾\";\n",
       "}\n",
       "\n",
       "/* Pipeline/ColumnTransformer-specific style */\n",
       "\n",
       "#sk-container-id-1 div.sk-label input.sk-toggleable__control:checked~label.sk-toggleable__label {\n",
       "  color: var(--sklearn-color-text);\n",
       "  background-color: var(--sklearn-color-unfitted-level-2);\n",
       "}\n",
       "\n",
       "#sk-container-id-1 div.sk-label.fitted input.sk-toggleable__control:checked~label.sk-toggleable__label {\n",
       "  background-color: var(--sklearn-color-fitted-level-2);\n",
       "}\n",
       "\n",
       "/* Estimator-specific style */\n",
       "\n",
       "/* Colorize estimator box */\n",
       "#sk-container-id-1 div.sk-estimator input.sk-toggleable__control:checked~label.sk-toggleable__label {\n",
       "  /* unfitted */\n",
       "  background-color: var(--sklearn-color-unfitted-level-2);\n",
       "}\n",
       "\n",
       "#sk-container-id-1 div.sk-estimator.fitted input.sk-toggleable__control:checked~label.sk-toggleable__label {\n",
       "  /* fitted */\n",
       "  background-color: var(--sklearn-color-fitted-level-2);\n",
       "}\n",
       "\n",
       "#sk-container-id-1 div.sk-label label.sk-toggleable__label,\n",
       "#sk-container-id-1 div.sk-label label {\n",
       "  /* The background is the default theme color */\n",
       "  color: var(--sklearn-color-text-on-default-background);\n",
       "}\n",
       "\n",
       "/* On hover, darken the color of the background */\n",
       "#sk-container-id-1 div.sk-label:hover label.sk-toggleable__label {\n",
       "  color: var(--sklearn-color-text);\n",
       "  background-color: var(--sklearn-color-unfitted-level-2);\n",
       "}\n",
       "\n",
       "/* Label box, darken color on hover, fitted */\n",
       "#sk-container-id-1 div.sk-label.fitted:hover label.sk-toggleable__label.fitted {\n",
       "  color: var(--sklearn-color-text);\n",
       "  background-color: var(--sklearn-color-fitted-level-2);\n",
       "}\n",
       "\n",
       "/* Estimator label */\n",
       "\n",
       "#sk-container-id-1 div.sk-label label {\n",
       "  font-family: monospace;\n",
       "  font-weight: bold;\n",
       "  display: inline-block;\n",
       "  line-height: 1.2em;\n",
       "}\n",
       "\n",
       "#sk-container-id-1 div.sk-label-container {\n",
       "  text-align: center;\n",
       "}\n",
       "\n",
       "/* Estimator-specific */\n",
       "#sk-container-id-1 div.sk-estimator {\n",
       "  font-family: monospace;\n",
       "  border: 1px dotted var(--sklearn-color-border-box);\n",
       "  border-radius: 0.25em;\n",
       "  box-sizing: border-box;\n",
       "  margin-bottom: 0.5em;\n",
       "  /* unfitted */\n",
       "  background-color: var(--sklearn-color-unfitted-level-0);\n",
       "}\n",
       "\n",
       "#sk-container-id-1 div.sk-estimator.fitted {\n",
       "  /* fitted */\n",
       "  background-color: var(--sklearn-color-fitted-level-0);\n",
       "}\n",
       "\n",
       "/* on hover */\n",
       "#sk-container-id-1 div.sk-estimator:hover {\n",
       "  /* unfitted */\n",
       "  background-color: var(--sklearn-color-unfitted-level-2);\n",
       "}\n",
       "\n",
       "#sk-container-id-1 div.sk-estimator.fitted:hover {\n",
       "  /* fitted */\n",
       "  background-color: var(--sklearn-color-fitted-level-2);\n",
       "}\n",
       "\n",
       "/* Specification for estimator info (e.g. \"i\" and \"?\") */\n",
       "\n",
       "/* Common style for \"i\" and \"?\" */\n",
       "\n",
       ".sk-estimator-doc-link,\n",
       "a:link.sk-estimator-doc-link,\n",
       "a:visited.sk-estimator-doc-link {\n",
       "  float: right;\n",
       "  font-size: smaller;\n",
       "  line-height: 1em;\n",
       "  font-family: monospace;\n",
       "  background-color: var(--sklearn-color-background);\n",
       "  border-radius: 1em;\n",
       "  height: 1em;\n",
       "  width: 1em;\n",
       "  text-decoration: none !important;\n",
       "  margin-left: 0.5em;\n",
       "  text-align: center;\n",
       "  /* unfitted */\n",
       "  border: var(--sklearn-color-unfitted-level-1) 1pt solid;\n",
       "  color: var(--sklearn-color-unfitted-level-1);\n",
       "}\n",
       "\n",
       ".sk-estimator-doc-link.fitted,\n",
       "a:link.sk-estimator-doc-link.fitted,\n",
       "a:visited.sk-estimator-doc-link.fitted {\n",
       "  /* fitted */\n",
       "  border: var(--sklearn-color-fitted-level-1) 1pt solid;\n",
       "  color: var(--sklearn-color-fitted-level-1);\n",
       "}\n",
       "\n",
       "/* On hover */\n",
       "div.sk-estimator:hover .sk-estimator-doc-link:hover,\n",
       ".sk-estimator-doc-link:hover,\n",
       "div.sk-label-container:hover .sk-estimator-doc-link:hover,\n",
       ".sk-estimator-doc-link:hover {\n",
       "  /* unfitted */\n",
       "  background-color: var(--sklearn-color-unfitted-level-3);\n",
       "  color: var(--sklearn-color-background);\n",
       "  text-decoration: none;\n",
       "}\n",
       "\n",
       "div.sk-estimator.fitted:hover .sk-estimator-doc-link.fitted:hover,\n",
       ".sk-estimator-doc-link.fitted:hover,\n",
       "div.sk-label-container:hover .sk-estimator-doc-link.fitted:hover,\n",
       ".sk-estimator-doc-link.fitted:hover {\n",
       "  /* fitted */\n",
       "  background-color: var(--sklearn-color-fitted-level-3);\n",
       "  color: var(--sklearn-color-background);\n",
       "  text-decoration: none;\n",
       "}\n",
       "\n",
       "/* Span, style for the box shown on hovering the info icon */\n",
       ".sk-estimator-doc-link span {\n",
       "  display: none;\n",
       "  z-index: 9999;\n",
       "  position: relative;\n",
       "  font-weight: normal;\n",
       "  right: .2ex;\n",
       "  padding: .5ex;\n",
       "  margin: .5ex;\n",
       "  width: min-content;\n",
       "  min-width: 20ex;\n",
       "  max-width: 50ex;\n",
       "  color: var(--sklearn-color-text);\n",
       "  box-shadow: 2pt 2pt 4pt #999;\n",
       "  /* unfitted */\n",
       "  background: var(--sklearn-color-unfitted-level-0);\n",
       "  border: .5pt solid var(--sklearn-color-unfitted-level-3);\n",
       "}\n",
       "\n",
       ".sk-estimator-doc-link.fitted span {\n",
       "  /* fitted */\n",
       "  background: var(--sklearn-color-fitted-level-0);\n",
       "  border: var(--sklearn-color-fitted-level-3);\n",
       "}\n",
       "\n",
       ".sk-estimator-doc-link:hover span {\n",
       "  display: block;\n",
       "}\n",
       "\n",
       "/* \"?\"-specific style due to the `<a>` HTML tag */\n",
       "\n",
       "#sk-container-id-1 a.estimator_doc_link {\n",
       "  float: right;\n",
       "  font-size: 1rem;\n",
       "  line-height: 1em;\n",
       "  font-family: monospace;\n",
       "  background-color: var(--sklearn-color-background);\n",
       "  border-radius: 1rem;\n",
       "  height: 1rem;\n",
       "  width: 1rem;\n",
       "  text-decoration: none;\n",
       "  /* unfitted */\n",
       "  color: var(--sklearn-color-unfitted-level-1);\n",
       "  border: var(--sklearn-color-unfitted-level-1) 1pt solid;\n",
       "}\n",
       "\n",
       "#sk-container-id-1 a.estimator_doc_link.fitted {\n",
       "  /* fitted */\n",
       "  border: var(--sklearn-color-fitted-level-1) 1pt solid;\n",
       "  color: var(--sklearn-color-fitted-level-1);\n",
       "}\n",
       "\n",
       "/* On hover */\n",
       "#sk-container-id-1 a.estimator_doc_link:hover {\n",
       "  /* unfitted */\n",
       "  background-color: var(--sklearn-color-unfitted-level-3);\n",
       "  color: var(--sklearn-color-background);\n",
       "  text-decoration: none;\n",
       "}\n",
       "\n",
       "#sk-container-id-1 a.estimator_doc_link.fitted:hover {\n",
       "  /* fitted */\n",
       "  background-color: var(--sklearn-color-fitted-level-3);\n",
       "}\n",
       "</style><div id=\"sk-container-id-1\" class=\"sk-top-container\"><div class=\"sk-text-repr-fallback\"><pre>LinearRegression()</pre><b>In a Jupyter environment, please rerun this cell to show the HTML representation or trust the notebook. <br />On GitHub, the HTML representation is unable to render, please try loading this page with nbviewer.org.</b></div><div class=\"sk-container\" hidden><div class=\"sk-item\"><div class=\"sk-estimator fitted sk-toggleable\"><input class=\"sk-toggleable__control sk-hidden--visually\" id=\"sk-estimator-id-1\" type=\"checkbox\" checked><label for=\"sk-estimator-id-1\" class=\"sk-toggleable__label fitted sk-toggleable__label-arrow\"><div><div>LinearRegression</div></div><div><a class=\"sk-estimator-doc-link fitted\" rel=\"noreferrer\" target=\"_blank\" href=\"https://scikit-learn.org/1.6/modules/generated/sklearn.linear_model.LinearRegression.html\">?<span>Documentation for LinearRegression</span></a><span class=\"sk-estimator-doc-link fitted\">i<span>Fitted</span></span></div></label><div class=\"sk-toggleable__content fitted\"><pre>LinearRegression()</pre></div> </div></div></div></div>"
      ],
      "text/plain": [
       "LinearRegression()"
      ]
     },
     "execution_count": 12,
     "metadata": {},
     "output_type": "execute_result"
    }
   ],
   "source": [
    "lr.fit(x_train,y_train)"
   ]
  },
  {
   "cell_type": "code",
   "execution_count": 13,
   "id": "bb7bbbe5-b961-4738-9d09-4dd5532ddc55",
   "metadata": {},
   "outputs": [
    {
     "data": {
      "text/plain": [
       "array([28.16404017])"
      ]
     },
     "execution_count": 13,
     "metadata": {},
     "output_type": "execute_result"
    }
   ],
   "source": [
    "lr.coef_"
   ]
  },
  {
   "cell_type": "code",
   "execution_count": 14,
   "id": "8f74989a-4c87-4fb7-ada1-ef255fc63a5c",
   "metadata": {},
   "outputs": [
    {
     "data": {
      "text/plain": [
       "np.float64(-2.7130725669241036)"
      ]
     },
     "execution_count": 14,
     "metadata": {},
     "output_type": "execute_result"
    }
   ],
   "source": [
    "lr.intercept_"
   ]
  },
  {
   "cell_type": "code",
   "execution_count": 15,
   "id": "1ffea3f5-0267-4740-9d57-ba06d4a69467",
   "metadata": {},
   "outputs": [
    {
     "data": {
      "text/plain": [
       "0.6186926408914154"
      ]
     },
     "execution_count": 15,
     "metadata": {},
     "output_type": "execute_result"
    }
   ],
   "source": [
    "y_pred = lr.predict(x_test)\n",
    "from sklearn.metrics import r2_score\n",
    "r2_score(y_test,y_pred)"
   ]
  },
  {
   "cell_type": "markdown",
   "id": "f12f6577-ffd5-4623-8b59-952f59581aae",
   "metadata": {},
   "source": [
    "### using gradient descent when slope is constant ###"
   ]
  },
  {
   "cell_type": "code",
   "execution_count": 16,
   "id": "b329f503-b67a-4d30-a4db-9b592de39880",
   "metadata": {},
   "outputs": [],
   "source": [
    "m = lr.coef_[0]"
   ]
  },
  {
   "cell_type": "code",
   "execution_count": 17,
   "id": "4d3c43c1-0a87-437c-8a28-0d134d3bd876",
   "metadata": {},
   "outputs": [
    {
     "data": {
      "text/plain": [
       "np.float64(28.164040171229406)"
      ]
     },
     "execution_count": 17,
     "metadata": {},
     "output_type": "execute_result"
    }
   ],
   "source": [
    "m"
   ]
  },
  {
   "cell_type": "code",
   "execution_count": 18,
   "id": "f848f092-71d5-4e47-bc5a-d5261e5ffd32",
   "metadata": {},
   "outputs": [],
   "source": [
    "def gd(epochs,b,x,y,lr):\n",
    "    plt.figure(figsize=(10,8))\n",
    "    plt.scatter(x,y,label=\"Data points\")\n",
    "    for i in range(epochs):\n",
    "        loss_slope_b = -2*np.sum(y - m*x.ravel() - b)\n",
    "        b = b-lr*loss_slope_b\n",
    "        y_pred2 = m*(x_test.ravel())+b\n",
    "        print(f\"updated value of b is {b}\")\n",
    "        plt.plot(x_test,y_pred2,color=\"orange\")\n",
    "    plt.plot(x_test,y_pred,color=\"black\")\n",
    "    plt.legend()\n",
    "    plt.show()\n",
    "    "
   ]
  },
  {
   "cell_type": "code",
   "execution_count": 19,
   "id": "98c2b80c-36b6-4537-b399-60143c08ebc0",
   "metadata": {},
   "outputs": [
    {
     "name": "stdout",
     "output_type": "stream",
     "text": [
      "updated value of b is -124.34091610707856\n",
      "updated value of b is 70.26363355716859\n",
      "updated value of b is -46.49909624137973\n",
      "updated value of b is 23.558541637749272\n",
      "updated value of b is -18.476041089728135\n",
      "updated value of b is 6.744708546758318\n",
      "updated value of b is -8.387741235133555\n",
      "updated value of b is 0.6917286340015671\n",
      "updated value of b is -4.755953287479504\n",
      "updated value of b is -1.487344134590864\n",
      "updated value of b is -3.448509626324047\n",
      "updated value of b is -2.2718103312841373\n",
      "updated value of b is -2.977829908308083\n",
      "updated value of b is -2.554218162093715\n",
      "updated value of b is -2.808385209822336\n",
      "updated value of b is -2.655884981185162\n",
      "updated value of b is -2.7473851183674687\n",
      "updated value of b is -2.6924850360580845\n",
      "updated value of b is -2.7254250854437143\n",
      "updated value of b is -2.7056610558123366\n",
      "updated value of b is -2.7175194735911634\n",
      "updated value of b is -2.7104044229238666\n",
      "updated value of b is -2.7146734533242456\n",
      "updated value of b is -2.712112035084018\n",
      "updated value of b is -2.713648886028153\n",
      "updated value of b is -2.712726775461673\n",
      "updated value of b is -2.7132800418015615\n",
      "updated value of b is -2.712948081997629\n",
      "updated value of b is -2.713147257879988\n",
      "updated value of b is -2.713027752350572\n",
      "updated value of b is -2.713099455668221\n",
      "updated value of b is -2.7130564336776324\n",
      "updated value of b is -2.713082246871986\n",
      "updated value of b is -2.7130667589553745\n",
      "updated value of b is -2.7130760517053405\n",
      "updated value of b is -2.713070476055361\n",
      "updated value of b is -2.7130738214453487\n",
      "updated value of b is -2.7130718142113555\n",
      "updated value of b is -2.713073018551752\n",
      "updated value of b is -2.7130722959475126\n",
      "updated value of b is -2.7130727295100576\n",
      "updated value of b is -2.7130724693725305\n",
      "updated value of b is -2.713072625455047\n",
      "updated value of b is -2.7130725318055364\n",
      "updated value of b is -2.713072587995242\n",
      "updated value of b is -2.7130725542814194\n",
      "updated value of b is -2.7130725745097144\n",
      "updated value of b is -2.7130725623727368\n",
      "updated value of b is -2.7130725696549227\n",
      "updated value of b is -2.7130725652856116\n",
      "updated value of b is -2.7130725679071985\n",
      "updated value of b is -2.7130725663342465\n",
      "updated value of b is -2.7130725672780156\n",
      "updated value of b is -2.713072566711756\n",
      "updated value of b is -2.713072567051512\n",
      "updated value of b is -2.7130725668476576\n",
      "updated value of b is -2.7130725669699705\n",
      "updated value of b is -2.713072566896583\n",
      "updated value of b is -2.7130725669406153\n",
      "updated value of b is -2.7130725669141964\n",
      "updated value of b is -2.7130725669300473\n",
      "updated value of b is -2.7130725669205353\n",
      "updated value of b is -2.713072566926244\n",
      "updated value of b is -2.713072566922819\n",
      "updated value of b is -2.713072566924874\n",
      "updated value of b is -2.7130725669236395\n",
      "updated value of b is -2.713072566924381\n",
      "updated value of b is -2.7130725669239353\n",
      "updated value of b is -2.7130725669242044\n",
      "updated value of b is -2.713072566924043\n",
      "updated value of b is -2.7130725669241382\n",
      "updated value of b is -2.713072566924081\n",
      "updated value of b is -2.713072566924117\n",
      "updated value of b is -2.7130725669240947\n",
      "updated value of b is -2.7130725669241085\n",
      "updated value of b is -2.7130725669241\n",
      "updated value of b is -2.713072566924104\n",
      "updated value of b is -2.7130725669241023\n",
      "updated value of b is -2.713072566924104\n",
      "updated value of b is -2.7130725669241023\n",
      "updated value of b is -2.713072566924104\n",
      "updated value of b is -2.7130725669241023\n",
      "updated value of b is -2.713072566924104\n",
      "updated value of b is -2.7130725669241023\n",
      "updated value of b is -2.713072566924104\n",
      "updated value of b is -2.7130725669241023\n",
      "updated value of b is -2.713072566924104\n",
      "updated value of b is -2.7130725669241023\n",
      "updated value of b is -2.713072566924104\n",
      "updated value of b is -2.7130725669241023\n",
      "updated value of b is -2.713072566924104\n",
      "updated value of b is -2.7130725669241023\n",
      "updated value of b is -2.713072566924104\n",
      "updated value of b is -2.7130725669241023\n",
      "updated value of b is -2.713072566924104\n",
      "updated value of b is -2.7130725669241023\n",
      "updated value of b is -2.713072566924104\n",
      "updated value of b is -2.7130725669241023\n",
      "updated value of b is -2.713072566924104\n",
      "updated value of b is -2.7130725669241023\n"
     ]
    },
    {
     "data": {
      "image/png": "[encoded data removed]",
      "text/plain": [
       "<Figure size 1000x800 with 1 Axes>"
      ]
     },
     "metadata": {},
     "output_type": "display_data"
    }
   ],
   "source": [
    "gd(100,200,x_train,y_train,0.01)"
   ]
  },
  {
   "cell_type": "markdown",
   "id": "d5cd9554-1423-45fa-bba5-5e7b42e02a1f",
   "metadata": {},
   "source": [
    "### you can see in the graph that the intercept converges to near about -2.7 and that indeed is the value stated in the linear regression line ###"
   ]
  },
  {
   "cell_type": "markdown",
   "id": "f51b5bbd-b6be-4b00-a4ae-118e330ab966",
   "metadata": {},
   "source": [
    "## making intercept constant and using gradient descent on the slope ##"
   ]
  },
  {
   "cell_type": "code",
   "execution_count": 20,
   "id": "f7cd3878-dae9-405f-ace2-3c61991f963e",
   "metadata": {},
   "outputs": [],
   "source": [
    "def gd2(epochs,slope,x,y,lr,b):\n",
    "    plt.figure(figsize=(10,8))\n",
    "    plt.scatter(x,y,label=\"Data points\")\n",
    "    plt.plot(x_test,y_pred,color=\"black\")\n",
    "    for i in range(epochs):\n",
    "        loss_slope_m = -2*np.sum((y-slope*x.ravel()-b)*x.ravel())\n",
    "        slope = slope - lr*loss_slope_m\n",
    "        y_pred2 = slope*x_test.ravel()-b\n",
    "        print(f\"value of updated slope is {slope}\")\n",
    "        plt.plot(x_test.ravel(),y_pred2,color=\"green\")\n",
    "    plt.show()"
   ]
  },
  {
   "cell_type": "code",
   "execution_count": 21,
   "id": "20a99909-07ee-4cb0-8fd3-cc0282754819",
   "metadata": {},
   "outputs": [
    {
     "name": "stdout",
     "output_type": "stream",
     "text": [
      "value of updated slope is 37.406381225482164\n",
      "value of updated slope is 24.47639036870396\n",
      "value of updated slope is 29.63539477567876\n",
      "value of updated slope is 27.576976733006052\n",
      "value of updated slope is 28.398275670582485\n",
      "value of updated slope is 28.070581329160785\n",
      "value of updated slope is 28.201329801473047\n",
      "value of updated slope is 28.149161787409017\n",
      "value of updated slope is 28.16997657509453\n",
      "value of updated slope is 28.1616715745273\n",
      "value of updated slope is 28.164985229966106\n",
      "value of updated slope is 28.163663097321052\n",
      "value of updated slope is 28.16419062191237\n",
      "value of updated slope is 28.16398014212769\n",
      "value of updated slope is 28.164064122553413\n",
      "value of updated slope is 28.164030614765885\n",
      "value of updated slope is 28.16404398421258\n",
      "value of updated slope is 28.164038649867397\n",
      "value of updated slope is 28.164040778245568\n",
      "value of updated slope is 28.164039929032874\n",
      "value of updated slope is 28.16404026786467\n",
      "value of updated slope is 28.164040132672408\n",
      "value of updated slope is 28.164040186613473\n",
      "value of updated slope is 28.164040165091247\n",
      "value of updated slope is 28.16404017367851\n",
      "value of updated slope is 28.164040170252235\n",
      "value of updated slope is 28.164040171619302\n",
      "value of updated slope is 28.16404017107385\n",
      "value of updated slope is 28.164040171291482\n",
      "value of updated slope is 28.164040171204647\n",
      "value of updated slope is 28.164040171239296\n",
      "value of updated slope is 28.16404017122547\n",
      "value of updated slope is 28.164040171230987\n",
      "value of updated slope is 28.164040171228784\n",
      "value of updated slope is 28.164040171229665\n",
      "value of updated slope is 28.164040171229313\n",
      "value of updated slope is 28.164040171229452\n",
      "value of updated slope is 28.1640401712294\n",
      "value of updated slope is 28.16404017122942\n",
      "value of updated slope is 28.16404017122941\n",
      "value of updated slope is 28.164040171229413\n",
      "value of updated slope is 28.164040171229413\n",
      "value of updated slope is 28.164040171229413\n",
      "value of updated slope is 28.164040171229413\n",
      "value of updated slope is 28.164040171229413\n",
      "value of updated slope is 28.164040171229413\n",
      "value of updated slope is 28.164040171229413\n",
      "value of updated slope is 28.164040171229413\n",
      "value of updated slope is 28.164040171229413\n",
      "value of updated slope is 28.164040171229413\n",
      "value of updated slope is 28.164040171229413\n",
      "value of updated slope is 28.164040171229413\n",
      "value of updated slope is 28.164040171229413\n",
      "value of updated slope is 28.164040171229413\n",
      "value of updated slope is 28.164040171229413\n",
      "value of updated slope is 28.164040171229413\n",
      "value of updated slope is 28.164040171229413\n",
      "value of updated slope is 28.164040171229413\n",
      "value of updated slope is 28.164040171229413\n",
      "value of updated slope is 28.164040171229413\n",
      "value of updated slope is 28.164040171229413\n",
      "value of updated slope is 28.164040171229413\n",
      "value of updated slope is 28.164040171229413\n",
      "value of updated slope is 28.164040171229413\n",
      "value of updated slope is 28.164040171229413\n",
      "value of updated slope is 28.164040171229413\n",
      "value of updated slope is 28.164040171229413\n",
      "value of updated slope is 28.164040171229413\n",
      "value of updated slope is 28.164040171229413\n",
      "value of updated slope is 28.164040171229413\n",
      "value of updated slope is 28.164040171229413\n",
      "value of updated slope is 28.164040171229413\n",
      "value of updated slope is 28.164040171229413\n",
      "value of updated slope is 28.164040171229413\n",
      "value of updated slope is 28.164040171229413\n",
      "value of updated slope is 28.164040171229413\n",
      "value of updated slope is 28.164040171229413\n",
      "value of updated slope is 28.164040171229413\n",
      "value of updated slope is 28.164040171229413\n",
      "value of updated slope is 28.164040171229413\n",
      "value of updated slope is 28.164040171229413\n",
      "value of updated slope is 28.164040171229413\n",
      "value of updated slope is 28.164040171229413\n",
      "value of updated slope is 28.164040171229413\n",
      "value of updated slope is 28.164040171229413\n",
      "value of updated slope is 28.164040171229413\n",
      "value of updated slope is 28.164040171229413\n",
      "value of updated slope is 28.164040171229413\n",
      "value of updated slope is 28.164040171229413\n",
      "value of updated slope is 28.164040171229413\n",
      "value of updated slope is 28.164040171229413\n",
      "value of updated slope is 28.164040171229413\n",
      "value of updated slope is 28.164040171229413\n",
      "value of updated slope is 28.164040171229413\n",
      "value of updated slope is 28.164040171229413\n",
      "value of updated slope is 28.164040171229413\n",
      "value of updated slope is 28.164040171229413\n",
      "value of updated slope is 28.164040171229413\n",
      "value of updated slope is 28.164040171229413\n",
      "value of updated slope is 28.164040171229413\n"
     ]
    },
    {
     "data": {
      "image/png": "[encoded data removed]",
      "text/plain": [
       "<Figure size 1000x800 with 1 Axes>"
      ]
     },
     "metadata": {},
     "output_type": "display_data"
    }
   ],
   "source": [
    "gd2(100,5,x_train,y_train,0.01,lr.intercept_)"
   ]
  },
  {
   "cell_type": "markdown",
   "id": "ca15b320-e0c2-48f2-8b01-48337841ef36",
   "metadata": {},
   "source": [
    "### you can see that the slope also converges to the real value of the slope from the linear regression line ###"
   ]
  },
  {
   "cell_type": "markdown",
   "id": "09d5b195-5a31-43fe-a45c-9dc59d05bb7b",
   "metadata": {},
   "source": [
    "## using gradient descent when both the slope and the intercept is unknown ##"
   ]
  },
  {
   "cell_type": "code",
   "execution_count": 22,
   "id": "0c0b75cc-b4e9-47d4-a398-cb79224dfd8f",
   "metadata": {},
   "outputs": [],
   "source": [
    "class GDregressor:\n",
    "    def __init__(self,learning_rate,epochs):\n",
    "        self.lr = learning_rate\n",
    "        self.epochs = epochs\n",
    "        self.coef_ = None\n",
    "        self.intercept_ = None\n",
    "\n",
    "    def fit(self,x,y):\n",
    "        self.coef_ = 0\n",
    "        self.intercept_ = 1\n",
    "        for i in range(self.epochs):\n",
    "            loss_slope_m = -2*np.sum((y-self.coef_*x.ravel()-self.intercept_)*x.ravel())\n",
    "            loss_slope_b = -2*np.sum(y-self.coef_*x.ravel()-self.intercept_)\n",
    "\n",
    "            self.coef_ = self.coef_- self.lr*loss_slope_m\n",
    "            self.intercept_ = self.intercept_ - self.lr*loss_slope_b\n",
    "    def predict(self,x):\n",
    "        return self.coef_*x.ravel()+self.intercept_"
   ]
  },
  {
   "cell_type": "code",
   "execution_count": 23,
   "id": "99c59882-ef2e-4e94-999c-a9b445bc0430",
   "metadata": {},
   "outputs": [],
   "source": [
    "gd = GDregressor(0.01,1000)"
   ]
  },
  {
   "cell_type": "code",
   "execution_count": 24,
   "id": "0488ec20-7ec0-4fd9-98ae-0af47e7f7d72",
   "metadata": {},
   "outputs": [],
   "source": [
    "gd.fit(x_train,y_train)"
   ]
  },
  {
   "cell_type": "code",
   "execution_count": 25,
   "id": "3af67b49-5849-4800-bf00-799244b23207",
   "metadata": {},
   "outputs": [
    {
     "data": {
      "text/plain": [
       "np.float64(-2.713072566924104)"
      ]
     },
     "execution_count": 25,
     "metadata": {},
     "output_type": "execute_result"
    }
   ],
   "source": [
    "gd.intercept_"
   ]
  },
  {
   "cell_type": "code",
   "execution_count": 26,
   "id": "35681e40-e221-4c99-b166-6488136c2916",
   "metadata": {},
   "outputs": [
    {
     "data": {
      "text/plain": [
       "np.float64(28.164040171229413)"
      ]
     },
     "execution_count": 26,
     "metadata": {},
     "output_type": "execute_result"
    }
   ],
   "source": [
    "gd.coef_"
   ]
  },
  {
   "cell_type": "code",
   "execution_count": 27,
   "id": "62c972c3-e426-4939-a0da-83bac83c6992",
   "metadata": {},
   "outputs": [
    {
     "data": {
      "text/plain": [
       "np.float64(-2.7130725669241036)"
      ]
     },
     "execution_count": 27,
     "metadata": {},
     "output_type": "execute_result"
    }
   ],
   "source": [
    "lr.intercept_"
   ]
  },
  {
   "cell_type": "code",
   "execution_count": 28,
   "id": "5de00fcd-77d9-40fc-ac96-69188dba21e1",
   "metadata": {},
   "outputs": [
    {
     "data": {
      "text/plain": [
       "array([28.16404017])"
      ]
     },
     "execution_count": 28,
     "metadata": {},
     "output_type": "execute_result"
    }
   ],
   "source": [
    "lr.coef_"
   ]
  },
  {
   "cell_type": "code",
   "execution_count": 29,
   "id": "fa00c553-85f8-4e15-a5b7-ae90dc3f678d",
   "metadata": {},
   "outputs": [
    {
     "data": {
      "text/plain": [
       "<matplotlib.collections.PathCollection at 0x7f1b2ecb8910>"
      ]
     },
     "execution_count": 29,
     "metadata": {},
     "output_type": "execute_result"
    },
    {
     "data": {
      "image/png": "[encoded data removed]",
      "text/plain": [
       "<Figure size 640x480 with 1 Axes>"
      ]
     },
     "metadata": {},
     "output_type": "display_data"
    }
   ],
   "source": [
    "plt.plot(x_test,y_pred,color=\"black\",label=\"linear regression line\")\n",
    "plt.plot(x_test,gd.predict(x_test),label=\"gradient descent line\", color=\"yellow\")\n",
    "plt.scatter(x,y,label=\"Data points\")"
   ]
  },
  {
   "cell_type": "markdown",
   "id": "0dcc0f26-2770-410d-b3e7-0bd32a00ed61",
   "metadata": {},
   "source": [
    "You can see the lines have basically overlapped meaning, gradient descent and linear regression have same intercept as well as same slope"
   ]
  },
  {
   "cell_type": "markdown",
   "id": "03975849-e304-4b83-81ca-f3d32dcd44cb",
   "metadata": {},
   "source": [
    "#Gradient Descent for n dimensional data#"
   ]
  },
  {
   "cell_type": "code",
   "execution_count": 30,
   "id": "112b9ff0-96bf-4e74-860c-5294a471f1fb",
   "metadata": {},
   "outputs": [],
   "source": [
    "x,y = make_regression(n_samples=100, n_features=4, n_informative=1, n_targets=1,noise=20,random_state=13)\n"
   ]
  },
  {
   "cell_type": "code",
   "execution_count": 31,
   "id": "145c4aab-88f0-4dd7-8ea3-b325c684fbca",
   "metadata": {},
   "outputs": [
    {
     "data": {
      "text/plain": [
       "(100, 4)"
      ]
     },
     "execution_count": 31,
     "metadata": {},
     "output_type": "execute_result"
    }
   ],
   "source": [
    "x.shape"
   ]
  },
  {
   "cell_type": "code",
   "execution_count": 32,
   "id": "ceba4539-fa50-4e3e-9254-11b96650fd17",
   "metadata": {},
   "outputs": [
    {
     "data": {
      "text/plain": [
       "(100,)"
      ]
     },
     "execution_count": 32,
     "metadata": {},
     "output_type": "execute_result"
    }
   ],
   "source": [
    "y.shape"
   ]
  },
  {
   "cell_type": "code",
   "execution_count": 33,
   "id": "2f520c51-dc88-4505-85c2-db27651406fe",
   "metadata": {},
   "outputs": [],
   "source": [
    "x_train, x_test, y_train,y_test = train_test_split(x,y,test_size=0.2,random_state = 42)"
   ]
  },
  {
   "cell_type": "code",
   "execution_count": 34,
   "id": "7acc36aa-6afe-4da6-8a4f-d9e6360b1178",
   "metadata": {},
   "outputs": [
    {
     "data": {
      "text/plain": [
       "(80, 4)"
      ]
     },
     "execution_count": 34,
     "metadata": {},
     "output_type": "execute_result"
    }
   ],
   "source": [
    "x_train.shape"
   ]
  },
  {
   "cell_type": "markdown",
   "id": "acbf5f3b-7ff8-4f1f-ae55-beaf189dd963",
   "metadata": {},
   "source": [
    "### Defining our own gradient descent class ###"
   ]
  },
  {
   "cell_type": "code",
   "execution_count": 35,
   "id": "e587217b-2148-45a2-84e0-5fda5ba5c307",
   "metadata": {},
   "outputs": [],
   "source": [
    "class batchGD:\n",
    "\n",
    "    def __init__(self,learning_rate,epochs):\n",
    "        self.lr = learning_rate\n",
    "        self.epochs = epochs\n",
    "        self.coef_ = None\n",
    "        self.intercept_ = None\n",
    "\n",
    "    def fit(self,x,y):\n",
    "        self.intercept_ = 0\n",
    "        self.coef_ = np.ones(x.shape[1])\n",
    "        for i in range(self.epochs):\n",
    "            y_hat = self.intercept_ + np.dot(x,self.coef_)\n",
    "            intercept_der = -1*np.mean(y-y_hat)\n",
    "            coef_der = -1*np.dot(x.T, (y - y_hat))\n",
    "\n",
    "            self.intercept_ = self.intercept_ - (self.lr*intercept_der)\n",
    "            self.coef_ = self.coef_ - (self.lr*coef_der)\n",
    "\n",
    "    def predict(self,x):\n",
    "        return np.dot(self.coef_,x)+self.intercept_"
   ]
  },
  {
   "cell_type": "markdown",
   "id": "b6232be2-8377-4b9e-984c-95ac1af80275",
   "metadata": {},
   "source": [
    "### using sklearns Batch gradient ###"
   ]
  },
  {
   "cell_type": "code",
   "execution_count": 36,
   "id": "fb99c113-120b-4756-a855-e9c732afbaeb",
   "metadata": {},
   "outputs": [],
   "source": [
    "from sklearn.linear_model import SGDRegressor\n",
    "sgd_reg = SGDRegressor(max_iter=1, tol=None, random_state=42, eta0=0.01, learning_rate='constant', penalty=None, shuffle=False)"
   ]
  },
  {
   "cell_type": "code",
   "execution_count": 37,
   "id": "7bf517ba-c3ab-4302-8572-1a3ed9708426",
   "metadata": {},
   "outputs": [],
   "source": [
    "def batchRegressor(epochs,x_train,y_train):\n",
    "    for i in range(epochs):\n",
    "        sgd_reg.partial_fit(x_train,y_train)"
   ]
  },
  {
   "cell_type": "code",
   "execution_count": 38,
   "id": "8b821355-46df-473d-89d5-4175ed288ec4",
   "metadata": {},
   "outputs": [],
   "source": [
    "batchRegressor(10000,x_train,y_train)"
   ]
  },
  {
   "cell_type": "code",
   "execution_count": 39,
   "id": "7bec84bd-5c3f-4bb8-b8ee-dce6f02a7d5d",
   "metadata": {},
   "outputs": [],
   "source": [
    "batch = batchGD(0.01,10000)"
   ]
  },
  {
   "cell_type": "code",
   "execution_count": 40,
   "id": "1b6cf1b0-e878-44c6-bdf2-e7634a90cecc",
   "metadata": {},
   "outputs": [],
   "source": [
    "batch.fit(x_train,y_train)"
   ]
  },
  {
   "cell_type": "code",
   "execution_count": 41,
   "id": "db6061ef-4e93-4039-a4d0-2faa02259d6f",
   "metadata": {},
   "outputs": [
    {
     "data": {
      "text/plain": [
       "array([2.50399853])"
      ]
     },
     "execution_count": 41,
     "metadata": {},
     "output_type": "execute_result"
    }
   ],
   "source": [
    "sgd_reg.intercept_"
   ]
  },
  {
   "cell_type": "code",
   "execution_count": 42,
   "id": "52dd18be-dfef-45ed-abf1-b5a2f9600c91",
   "metadata": {},
   "outputs": [
    {
     "data": {
      "text/plain": [
       "array([95.72048838, -1.67577697, -0.48810396, -0.85437836])"
      ]
     },
     "execution_count": 42,
     "metadata": {},
     "output_type": "execute_result"
    }
   ],
   "source": [
    "sgd_reg.coef_"
   ]
  },
  {
   "cell_type": "code",
   "execution_count": 43,
   "id": "42507cff-6fed-421e-aa07-c041553674f0",
   "metadata": {},
   "outputs": [
    {
     "data": {
      "text/plain": [
       "np.float64(2.722339354830375)"
      ]
     },
     "execution_count": 43,
     "metadata": {},
     "output_type": "execute_result"
    }
   ],
   "source": [
    "batch.intercept_"
   ]
  },
  {
   "cell_type": "code",
   "execution_count": 44,
   "id": "521b6900-f5de-4e55-ac77-511aaf213e9f",
   "metadata": {},
   "outputs": [
    {
     "data": {
      "text/plain": [
       "array([95.95965297, -1.88647563, -0.43303947, -0.36289122])"
      ]
     },
     "execution_count": 44,
     "metadata": {},
     "output_type": "execute_result"
    }
   ],
   "source": [
    "batch.coef_"
   ]
  },
  {
   "cell_type": "markdown",
   "id": "d88d4ae7-3673-45d4-98b0-f4efbeb22a52",
   "metadata": {},
   "source": [
    "### "
   ]
  }
 ],
 "metadata": {
  "kernelspec": {
   "display_name": "Python 3 (ipykernel)",
   "language": "python",
   "name": "python3"
  },
  "language_info": {
   "codemirror_mode": {
    "name": "ipython",
    "version": 3
   },
   "file_extension": ".py",
   "mimetype": "text/x-python",
   "name": "python",
   "nbconvert_exporter": "python",
   "pygments_lexer": "ipython3",
   "version": "3.13.5"
  }
 },
 "nbformat": 4,
 "nbformat_minor": 5
}
