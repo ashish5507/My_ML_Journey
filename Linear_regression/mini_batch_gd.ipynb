{
 "cells": [
  {
   "cell_type": "code",
   "execution_count": 1,
   "id": "4eeddd65-6ee2-44eb-b3d0-9b904e04518b",
   "metadata": {},
   "outputs": [],
   "source": [
    "import pandas as pd\n",
    "import numpy as np\n",
    "import matplotlib.pyplot as plt\n",
    "from sklearn.model_selection import train_test_split\n",
    "from sklearn.datasets import make_regression\n",
    "from sklearn.linear_model import LinearRegression\n",
    "from sklearn.linear_model import SGDRegressor"
   ]
  },
  {
   "cell_type": "markdown",
   "id": "cd7c9fc5-98a1-453e-acc1-4959b9e55daa",
   "metadata": {},
   "source": [
    "### creating regression using make_regression ###"
   ]
  },
  {
   "cell_type": "code",
   "execution_count": 2,
   "id": "46067add-133c-424c-9ee1-b297416c6a12",
   "metadata": {},
   "outputs": [],
   "source": [
    "x,y = make_regression(n_samples=100, n_features=4,n_informative=1, n_targets=1, noise=20, random_state = 13)"
   ]
  },
  {
   "cell_type": "code",
   "execution_count": 3,
   "id": "9faea17b-20f0-4f7d-b6cb-f5a770c9d769",
   "metadata": {},
   "outputs": [
    {
     "data": {
      "text/plain": [
       "(100, 4)"
      ]
     },
     "execution_count": 3,
     "metadata": {},
     "output_type": "execute_result"
    }
   ],
   "source": [
    "x.shape"
   ]
  },
  {
   "cell_type": "code",
   "execution_count": 4,
   "id": "39e29882-f7ed-4651-af7d-1b1109edf5cf",
   "metadata": {},
   "outputs": [
    {
     "data": {
      "text/plain": [
       "(100,)"
      ]
     },
     "execution_count": 4,
     "metadata": {},
     "output_type": "execute_result"
    }
   ],
   "source": [
    "y.shape"
   ]
  },
  {
   "cell_type": "code",
   "execution_count": 5,
   "id": "e94fd12f-6bdf-486d-896c-4f6f48db3746",
   "metadata": {},
   "outputs": [],
   "source": [
    "x_train,x_test,y_train,y_test = train_test_split(x,y,test_size = 0.2, random_state = 42)"
   ]
  },
  {
   "cell_type": "code",
   "execution_count": 6,
   "id": "0e05ec1d-01e3-4f39-9156-a43de4151e48",
   "metadata": {},
   "outputs": [
    {
     "data": {
      "text/plain": [
       "(80, 4)"
      ]
     },
     "execution_count": 6,
     "metadata": {},
     "output_type": "execute_result"
    }
   ],
   "source": [
    "x_train.shape"
   ]
  },
  {
   "cell_type": "markdown",
   "id": "dc5d6ee7-0987-4d7e-a40c-c80ed988dbe3",
   "metadata": {},
   "source": [
    "### creating our own mini batch gradient descent ###"
   ]
  },
  {
   "cell_type": "code",
   "execution_count": 7,
   "id": "ce7732d7-9fd8-443a-bc74-b5b4a8ce2222",
   "metadata": {},
   "outputs": [],
   "source": [
    "import random\n",
    "class miniGD:\n",
    "    def __init__(self,learning_rate,epochs,batch_size):\n",
    "        self.lr = learning_rate\n",
    "        self.epochs = epochs\n",
    "        self.batch_size = batch_size\n",
    "        self.intercept_ = None\n",
    "        self.coef_ = None\n",
    "\n",
    "    def fit(self,x_train,y_train):\n",
    "        self.intercept_ = 0\n",
    "        self.coef_ = np.ones(x_train.shape[1])\n",
    "\n",
    "        for i in range(self.epochs):\n",
    "            for j in range(int(x_train.shape[0]/self.batch_size)):\n",
    "                idx = random.sample(range(x_train.shape[0]), self.batch_size)\n",
    "                y_hat = np.dot(x_train[idx],self.coef_)+self.intercept_\n",
    "                intercept_derivate = -1*np.mean(y_train[idx]-y_hat)\n",
    "                coef_derivate = -1 * np.dot(x_train[idx].T, (y_train[idx] - y_hat))\n",
    "                self.intercept_ = self.intercept_ - (self.lr*intercept_derivate)\n",
    "                self.coef_ = self.coef_ - (self.lr*coef_derivate)\n",
    "\n",
    "    def predict(self,x_test):\n",
    "        return np.dot(x_test,self.coef_)+self.intercept_"
   ]
  },
  {
   "cell_type": "markdown",
   "id": "ed33127b-a1fc-43f1-9542-ac3e9bd347f2",
   "metadata": {},
   "source": [
    "### using sklearn's mini batch gradient descent ###"
   ]
  },
  {
   "cell_type": "code",
   "execution_count": 8,
   "id": "cbf37600-769c-4396-833b-adf4a3484b56",
   "metadata": {},
   "outputs": [],
   "source": [
    "sgd = SGDRegressor(learning_rate='constant',eta0=0.1)"
   ]
  },
  {
   "cell_type": "code",
   "execution_count": 9,
   "id": "9f531cb9-8d7f-4ac6-b70c-5f775ca69e63",
   "metadata": {},
   "outputs": [],
   "source": [
    "batch_size = 35\n",
    "\n",
    "for i in range(10000):\n",
    "    \n",
    "    idx = random.sample(range(x_train.shape[0]),batch_size)\n",
    "    sgd.partial_fit(x_train[idx],y_train[idx])"
   ]
  },
  {
   "cell_type": "code",
   "execution_count": 10,
   "id": "721268f0-5fc5-4291-8a2c-4102308082ce",
   "metadata": {},
   "outputs": [],
   "source": [
    "mgd = miniGD(0.01,10000,35)"
   ]
  },
  {
   "cell_type": "code",
   "execution_count": 11,
   "id": "a9de905a-3577-43d9-9551-46e8b770764d",
   "metadata": {},
   "outputs": [],
   "source": [
    "mgd.fit(x_train,y_train)"
   ]
  },
  {
   "cell_type": "code",
   "execution_count": 12,
   "id": "2f3e1673-8f8f-4e13-82f6-2fcdf3ba53dc",
   "metadata": {},
   "outputs": [
    {
     "data": {
      "text/plain": [
       "array([-5.8668706])"
      ]
     },
     "execution_count": 12,
     "metadata": {},
     "output_type": "execute_result"
    }
   ],
   "source": [
    "sgd.intercept_"
   ]
  },
  {
   "cell_type": "code",
   "execution_count": 13,
   "id": "9b072047-e7e9-4b1f-8950-4494063ad8f4",
   "metadata": {},
   "outputs": [
    {
     "data": {
      "text/plain": [
       "array([94.45442295, -5.91097006,  1.4828074 ,  0.43955902])"
      ]
     },
     "execution_count": 13,
     "metadata": {},
     "output_type": "execute_result"
    }
   ],
   "source": [
    "sgd.coef_"
   ]
  },
  {
   "cell_type": "code",
   "execution_count": 14,
   "id": "1ff0e8f4-a238-4bb2-b37f-a2ca88c91cd4",
   "metadata": {},
   "outputs": [
    {
     "data": {
      "text/plain": [
       "np.float64(2.6406717283018586)"
      ]
     },
     "execution_count": 14,
     "metadata": {},
     "output_type": "execute_result"
    }
   ],
   "source": [
    "mgd.intercept_"
   ]
  },
  {
   "cell_type": "code",
   "execution_count": 15,
   "id": "df9ba832-2c92-44b4-96ab-62a6948da472",
   "metadata": {},
   "outputs": [
    {
     "data": {
      "text/plain": [
       "array([96.20047036, -0.58220202,  0.10536544, -1.54143344])"
      ]
     },
     "execution_count": 15,
     "metadata": {},
     "output_type": "execute_result"
    }
   ],
   "source": [
    "mgd.coef_"
   ]
  },
  {
   "cell_type": "markdown",
   "id": "3bb7da3e-ad96-4e46-a904-f5cdaee8012e",
   "metadata": {},
   "source": [
    "## as you can see the values of intercept and coeficients are pretty close ##"
   ]
  }
 ],
 "metadata": {
  "kernelspec": {
   "display_name": "Python 3 (ipykernel)",
   "language": "python",
   "name": "python3"
  },
  "language_info": {
   "codemirror_mode": {
    "name": "ipython",
    "version": 3
   },
   "file_extension": ".py",
   "mimetype": "text/x-python",
   "name": "python",
   "nbconvert_exporter": "python",
   "pygments_lexer": "ipython3",
   "version": "3.13.5"
  }
 },
 "nbformat": 4,
 "nbformat_minor": 5
}
