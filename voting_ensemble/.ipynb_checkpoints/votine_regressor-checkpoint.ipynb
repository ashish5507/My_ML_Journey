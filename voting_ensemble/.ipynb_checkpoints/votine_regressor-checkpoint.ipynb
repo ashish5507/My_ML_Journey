{
 "cells": [
  {
   "cell_type": "code",
   "execution_count": 1,
   "id": "88833ce1-46be-4c97-a428-382160947252",
   "metadata": {},
   "outputs": [],
   "source": [
    "import pandas as pd\n",
    "import numpy as np\n",
    "from sklearn.tree import DecisionTreeRegressor\n",
    "from sklearn.svm import SVR\n",
    "from sklearn.linear_model import LinearRegression\n",
    "from sklearn.datasets import fetch_california_housing\n"
   ]
  },
  {
   "cell_type": "code",
   "execution_count": 2,
   "id": "d7d38f91-db6a-4439-8998-cf4d11b7349a",
   "metadata": {},
   "outputs": [],
   "source": [
    "housing = fetch_california_housing()"
   ]
  },
  {
   "cell_type": "code",
   "execution_count": 3,
   "id": "7d156c4e-b28b-44f9-be8a-4b451d1edb67",
   "metadata": {},
   "outputs": [],
   "source": [
    "df = pd.DataFrame(housing.data)"
   ]
  },
  {
   "cell_type": "code",
   "execution_count": 4,
   "id": "781def59-8b9a-4d85-9947-a3b0012cb683",
   "metadata": {},
   "outputs": [],
   "source": [
    "df.columns = housing.feature_names"
   ]
  },
  {
   "cell_type": "code",
   "execution_count": 5,
   "id": "4f019590-2708-45ac-9484-d4f0aada8448",
   "metadata": {},
   "outputs": [],
   "source": [
    "df['price'] = housing.target"
   ]
  },
  {
   "cell_type": "code",
   "execution_count": 6,
   "id": "95191ab3-0fc9-453a-a75b-8c380e7ca731",
   "metadata": {},
   "outputs": [
    {
     "data": {
      "text/plain": [
       "(20640, 9)"
      ]
     },
     "execution_count": 6,
     "metadata": {},
     "output_type": "execute_result"
    }
   ],
   "source": [
    "df.shape"
   ]
  },
  {
   "cell_type": "code",
   "execution_count": 7,
   "id": "be2ef4d2-2072-47f5-9ce1-b96dda9c5801",
   "metadata": {},
   "outputs": [
    {
     "data": {
      "text/html": [
       "<div>\n",
       "<style scoped>\n",
       "    .dataframe tbody tr th:only-of-type {\n",
       "        vertical-align: middle;\n",
       "    }\n",
       "\n",
       "    .dataframe tbody tr th {\n",
       "        vertical-align: top;\n",
       "    }\n",
       "\n",
       "    .dataframe thead th {\n",
       "        text-align: right;\n",
       "    }\n",
       "</style>\n",
       "<table border=\"1\" class=\"dataframe\">\n",
       "  <thead>\n",
       "    <tr style=\"text-align: right;\">\n",
       "      <th></th>\n",
       "      <th>MedInc</th>\n",
       "      <th>HouseAge</th>\n",
       "      <th>AveRooms</th>\n",
       "      <th>AveBedrms</th>\n",
       "      <th>Population</th>\n",
       "      <th>AveOccup</th>\n",
       "      <th>Latitude</th>\n",
       "      <th>Longitude</th>\n",
       "      <th>price</th>\n",
       "    </tr>\n",
       "  </thead>\n",
       "  <tbody>\n",
       "    <tr>\n",
       "      <th>20124</th>\n",
       "      <td>2.4167</td>\n",
       "      <td>28.0</td>\n",
       "      <td>6.493506</td>\n",
       "      <td>1.337662</td>\n",
       "      <td>545.0</td>\n",
       "      <td>3.538961</td>\n",
       "      <td>34.42</td>\n",
       "      <td>-118.75</td>\n",
       "      <td>1.917</td>\n",
       "    </tr>\n",
       "    <tr>\n",
       "      <th>17742</th>\n",
       "      <td>6.2340</td>\n",
       "      <td>7.0</td>\n",
       "      <td>6.511551</td>\n",
       "      <td>1.082508</td>\n",
       "      <td>1047.0</td>\n",
       "      <td>3.455446</td>\n",
       "      <td>37.31</td>\n",
       "      <td>-121.78</td>\n",
       "      <td>2.922</td>\n",
       "    </tr>\n",
       "    <tr>\n",
       "      <th>18040</th>\n",
       "      <td>4.6065</td>\n",
       "      <td>22.0</td>\n",
       "      <td>5.389535</td>\n",
       "      <td>1.013566</td>\n",
       "      <td>1291.0</td>\n",
       "      <td>2.501938</td>\n",
       "      <td>37.23</td>\n",
       "      <td>-121.97</td>\n",
       "      <td>4.459</td>\n",
       "    </tr>\n",
       "    <tr>\n",
       "      <th>19216</th>\n",
       "      <td>5.3409</td>\n",
       "      <td>15.0</td>\n",
       "      <td>6.081081</td>\n",
       "      <td>1.011583</td>\n",
       "      <td>716.0</td>\n",
       "      <td>2.764479</td>\n",
       "      <td>38.48</td>\n",
       "      <td>-122.68</td>\n",
       "      <td>2.446</td>\n",
       "    </tr>\n",
       "    <tr>\n",
       "      <th>1577</th>\n",
       "      <td>7.6518</td>\n",
       "      <td>11.0</td>\n",
       "      <td>6.919643</td>\n",
       "      <td>1.012277</td>\n",
       "      <td>2286.0</td>\n",
       "      <td>2.551339</td>\n",
       "      <td>37.80</td>\n",
       "      <td>-122.02</td>\n",
       "      <td>3.593</td>\n",
       "    </tr>\n",
       "    <tr>\n",
       "      <th>16542</th>\n",
       "      <td>4.4766</td>\n",
       "      <td>5.0</td>\n",
       "      <td>7.013544</td>\n",
       "      <td>1.076749</td>\n",
       "      <td>1549.0</td>\n",
       "      <td>3.496614</td>\n",
       "      <td>37.79</td>\n",
       "      <td>-121.22</td>\n",
       "      <td>1.694</td>\n",
       "    </tr>\n",
       "    <tr>\n",
       "      <th>2544</th>\n",
       "      <td>2.5417</td>\n",
       "      <td>50.0</td>\n",
       "      <td>6.473088</td>\n",
       "      <td>1.141643</td>\n",
       "      <td>837.0</td>\n",
       "      <td>2.371105</td>\n",
       "      <td>40.78</td>\n",
       "      <td>-124.16</td>\n",
       "      <td>0.854</td>\n",
       "    </tr>\n",
       "    <tr>\n",
       "      <th>768</th>\n",
       "      <td>4.3897</td>\n",
       "      <td>35.0</td>\n",
       "      <td>6.141304</td>\n",
       "      <td>1.043478</td>\n",
       "      <td>543.0</td>\n",
       "      <td>2.951087</td>\n",
       "      <td>37.65</td>\n",
       "      <td>-122.09</td>\n",
       "      <td>1.906</td>\n",
       "    </tr>\n",
       "    <tr>\n",
       "      <th>3384</th>\n",
       "      <td>4.4500</td>\n",
       "      <td>32.0</td>\n",
       "      <td>5.156187</td>\n",
       "      <td>1.066937</td>\n",
       "      <td>1278.0</td>\n",
       "      <td>2.592292</td>\n",
       "      <td>34.24</td>\n",
       "      <td>-118.28</td>\n",
       "      <td>2.636</td>\n",
       "    </tr>\n",
       "    <tr>\n",
       "      <th>14960</th>\n",
       "      <td>5.9202</td>\n",
       "      <td>9.0</td>\n",
       "      <td>6.115132</td>\n",
       "      <td>1.009868</td>\n",
       "      <td>947.0</td>\n",
       "      <td>3.115132</td>\n",
       "      <td>32.76</td>\n",
       "      <td>-116.92</td>\n",
       "      <td>1.813</td>\n",
       "    </tr>\n",
       "  </tbody>\n",
       "</table>\n",
       "</div>"
      ],
      "text/plain": [
       "       MedInc  HouseAge  AveRooms  AveBedrms  Population  AveOccup  Latitude  \\\n",
       "20124  2.4167      28.0  6.493506   1.337662       545.0  3.538961     34.42   \n",
       "17742  6.2340       7.0  6.511551   1.082508      1047.0  3.455446     37.31   \n",
       "18040  4.6065      22.0  5.389535   1.013566      1291.0  2.501938     37.23   \n",
       "19216  5.3409      15.0  6.081081   1.011583       716.0  2.764479     38.48   \n",
       "1577   7.6518      11.0  6.919643   1.012277      2286.0  2.551339     37.80   \n",
       "16542  4.4766       5.0  7.013544   1.076749      1549.0  3.496614     37.79   \n",
       "2544   2.5417      50.0  6.473088   1.141643       837.0  2.371105     40.78   \n",
       "768    4.3897      35.0  6.141304   1.043478       543.0  2.951087     37.65   \n",
       "3384   4.4500      32.0  5.156187   1.066937      1278.0  2.592292     34.24   \n",
       "14960  5.9202       9.0  6.115132   1.009868       947.0  3.115132     32.76   \n",
       "\n",
       "       Longitude  price  \n",
       "20124    -118.75  1.917  \n",
       "17742    -121.78  2.922  \n",
       "18040    -121.97  4.459  \n",
       "19216    -122.68  2.446  \n",
       "1577     -122.02  3.593  \n",
       "16542    -121.22  1.694  \n",
       "2544     -124.16  0.854  \n",
       "768      -122.09  1.906  \n",
       "3384     -118.28  2.636  \n",
       "14960    -116.92  1.813  "
      ]
     },
     "execution_count": 7,
     "metadata": {},
     "output_type": "execute_result"
    }
   ],
   "source": [
    "df.sample(10)"
   ]
  },
  {
   "cell_type": "code",
   "execution_count": 8,
   "id": "56d38e3b-fb0d-48d8-8e8a-474facd90982",
   "metadata": {},
   "outputs": [],
   "source": [
    "x = df.iloc[:1000,0:8]\n",
    "y = df.iloc[:1000,8]"
   ]
  },
  {
   "cell_type": "code",
   "execution_count": 9,
   "id": "4e9e5aea-4c67-437f-8c93-3bff68726ceb",
   "metadata": {},
   "outputs": [
    {
     "data": {
      "text/plain": [
       "(1000, 8)"
      ]
     },
     "execution_count": 9,
     "metadata": {},
     "output_type": "execute_result"
    }
   ],
   "source": [
    "x.shape"
   ]
  },
  {
   "cell_type": "code",
   "execution_count": 10,
   "id": "9ac6ac87-77e9-4d16-a543-e6ee46e5d758",
   "metadata": {},
   "outputs": [
    {
     "data": {
      "text/plain": [
       "(1000,)"
      ]
     },
     "execution_count": 10,
     "metadata": {},
     "output_type": "execute_result"
    }
   ],
   "source": [
    "y.shape"
   ]
  },
  {
   "cell_type": "code",
   "execution_count": 11,
   "id": "639af460-7f07-4102-82d9-260f4634aa9e",
   "metadata": {},
   "outputs": [
    {
     "data": {
      "text/html": [
       "<div>\n",
       "<style scoped>\n",
       "    .dataframe tbody tr th:only-of-type {\n",
       "        vertical-align: middle;\n",
       "    }\n",
       "\n",
       "    .dataframe tbody tr th {\n",
       "        vertical-align: top;\n",
       "    }\n",
       "\n",
       "    .dataframe thead th {\n",
       "        text-align: right;\n",
       "    }\n",
       "</style>\n",
       "<table border=\"1\" class=\"dataframe\">\n",
       "  <thead>\n",
       "    <tr style=\"text-align: right;\">\n",
       "      <th></th>\n",
       "      <th>MedInc</th>\n",
       "      <th>HouseAge</th>\n",
       "      <th>AveRooms</th>\n",
       "      <th>AveBedrms</th>\n",
       "      <th>Population</th>\n",
       "      <th>AveOccup</th>\n",
       "      <th>Latitude</th>\n",
       "      <th>Longitude</th>\n",
       "    </tr>\n",
       "  </thead>\n",
       "  <tbody>\n",
       "    <tr>\n",
       "      <th>0</th>\n",
       "      <td>8.3252</td>\n",
       "      <td>41.0</td>\n",
       "      <td>6.984127</td>\n",
       "      <td>1.023810</td>\n",
       "      <td>322.0</td>\n",
       "      <td>2.555556</td>\n",
       "      <td>37.88</td>\n",
       "      <td>-122.23</td>\n",
       "    </tr>\n",
       "    <tr>\n",
       "      <th>1</th>\n",
       "      <td>8.3014</td>\n",
       "      <td>21.0</td>\n",
       "      <td>6.238137</td>\n",
       "      <td>0.971880</td>\n",
       "      <td>2401.0</td>\n",
       "      <td>2.109842</td>\n",
       "      <td>37.86</td>\n",
       "      <td>-122.22</td>\n",
       "    </tr>\n",
       "    <tr>\n",
       "      <th>2</th>\n",
       "      <td>7.2574</td>\n",
       "      <td>52.0</td>\n",
       "      <td>8.288136</td>\n",
       "      <td>1.073446</td>\n",
       "      <td>496.0</td>\n",
       "      <td>2.802260</td>\n",
       "      <td>37.85</td>\n",
       "      <td>-122.24</td>\n",
       "    </tr>\n",
       "    <tr>\n",
       "      <th>3</th>\n",
       "      <td>5.6431</td>\n",
       "      <td>52.0</td>\n",
       "      <td>5.817352</td>\n",
       "      <td>1.073059</td>\n",
       "      <td>558.0</td>\n",
       "      <td>2.547945</td>\n",
       "      <td>37.85</td>\n",
       "      <td>-122.25</td>\n",
       "    </tr>\n",
       "    <tr>\n",
       "      <th>4</th>\n",
       "      <td>3.8462</td>\n",
       "      <td>52.0</td>\n",
       "      <td>6.281853</td>\n",
       "      <td>1.081081</td>\n",
       "      <td>565.0</td>\n",
       "      <td>2.181467</td>\n",
       "      <td>37.85</td>\n",
       "      <td>-122.25</td>\n",
       "    </tr>\n",
       "    <tr>\n",
       "      <th>...</th>\n",
       "      <td>...</td>\n",
       "      <td>...</td>\n",
       "      <td>...</td>\n",
       "      <td>...</td>\n",
       "      <td>...</td>\n",
       "      <td>...</td>\n",
       "      <td>...</td>\n",
       "      <td>...</td>\n",
       "    </tr>\n",
       "    <tr>\n",
       "      <th>995</th>\n",
       "      <td>4.8624</td>\n",
       "      <td>11.0</td>\n",
       "      <td>5.680000</td>\n",
       "      <td>1.044706</td>\n",
       "      <td>5826.0</td>\n",
       "      <td>2.741647</td>\n",
       "      <td>37.71</td>\n",
       "      <td>-121.75</td>\n",
       "    </tr>\n",
       "    <tr>\n",
       "      <th>996</th>\n",
       "      <td>9.1531</td>\n",
       "      <td>25.0</td>\n",
       "      <td>5.811765</td>\n",
       "      <td>0.952941</td>\n",
       "      <td>254.0</td>\n",
       "      <td>2.988235</td>\n",
       "      <td>37.74</td>\n",
       "      <td>-121.77</td>\n",
       "    </tr>\n",
       "    <tr>\n",
       "      <th>997</th>\n",
       "      <td>4.7361</td>\n",
       "      <td>22.0</td>\n",
       "      <td>6.080220</td>\n",
       "      <td>1.036264</td>\n",
       "      <td>2474.0</td>\n",
       "      <td>2.718681</td>\n",
       "      <td>37.70</td>\n",
       "      <td>-121.80</td>\n",
       "    </tr>\n",
       "    <tr>\n",
       "      <th>998</th>\n",
       "      <td>5.4324</td>\n",
       "      <td>17.0</td>\n",
       "      <td>5.975831</td>\n",
       "      <td>0.965257</td>\n",
       "      <td>2222.0</td>\n",
       "      <td>3.356495</td>\n",
       "      <td>37.69</td>\n",
       "      <td>-121.80</td>\n",
       "    </tr>\n",
       "    <tr>\n",
       "      <th>999</th>\n",
       "      <td>4.9375</td>\n",
       "      <td>12.0</td>\n",
       "      <td>5.974922</td>\n",
       "      <td>1.100313</td>\n",
       "      <td>802.0</td>\n",
       "      <td>2.514107</td>\n",
       "      <td>37.69</td>\n",
       "      <td>-121.82</td>\n",
       "    </tr>\n",
       "  </tbody>\n",
       "</table>\n",
       "<p>1000 rows × 8 columns</p>\n",
       "</div>"
      ],
      "text/plain": [
       "     MedInc  HouseAge  AveRooms  AveBedrms  Population  AveOccup  Latitude  \\\n",
       "0    8.3252      41.0  6.984127   1.023810       322.0  2.555556     37.88   \n",
       "1    8.3014      21.0  6.238137   0.971880      2401.0  2.109842     37.86   \n",
       "2    7.2574      52.0  8.288136   1.073446       496.0  2.802260     37.85   \n",
       "3    5.6431      52.0  5.817352   1.073059       558.0  2.547945     37.85   \n",
       "4    3.8462      52.0  6.281853   1.081081       565.0  2.181467     37.85   \n",
       "..      ...       ...       ...        ...         ...       ...       ...   \n",
       "995  4.8624      11.0  5.680000   1.044706      5826.0  2.741647     37.71   \n",
       "996  9.1531      25.0  5.811765   0.952941       254.0  2.988235     37.74   \n",
       "997  4.7361      22.0  6.080220   1.036264      2474.0  2.718681     37.70   \n",
       "998  5.4324      17.0  5.975831   0.965257      2222.0  3.356495     37.69   \n",
       "999  4.9375      12.0  5.974922   1.100313       802.0  2.514107     37.69   \n",
       "\n",
       "     Longitude  \n",
       "0      -122.23  \n",
       "1      -122.22  \n",
       "2      -122.24  \n",
       "3      -122.25  \n",
       "4      -122.25  \n",
       "..         ...  \n",
       "995    -121.75  \n",
       "996    -121.77  \n",
       "997    -121.80  \n",
       "998    -121.80  \n",
       "999    -121.82  \n",
       "\n",
       "[1000 rows x 8 columns]"
      ]
     },
     "execution_count": 11,
     "metadata": {},
     "output_type": "execute_result"
    }
   ],
   "source": [
    "x"
   ]
  },
  {
   "cell_type": "code",
   "execution_count": 12,
   "id": "1128317c-e97e-428d-b812-fdbfb0390f73",
   "metadata": {},
   "outputs": [
    {
     "data": {
      "text/plain": [
       "0      4.526\n",
       "1      3.585\n",
       "2      3.521\n",
       "3      3.413\n",
       "4      3.422\n",
       "       ...  \n",
       "995    1.924\n",
       "996    4.188\n",
       "997    2.168\n",
       "998    2.155\n",
       "999    2.277\n",
       "Name: price, Length: 1000, dtype: float64"
      ]
     },
     "execution_count": 12,
     "metadata": {},
     "output_type": "execute_result"
    }
   ],
   "source": [
    "y"
   ]
  },
  {
   "cell_type": "code",
   "execution_count": 13,
   "id": "a6ddab23-c168-4c5b-869d-78824d98e206",
   "metadata": {},
   "outputs": [],
   "source": [
    "dtr = DecisionTreeRegressor()\n",
    "lr = LinearRegression()\n",
    "svr= SVR()"
   ]
  },
  {
   "cell_type": "code",
   "execution_count": 14,
   "id": "04cf7a7c-e1e9-4d48-af4d-9da3106a6d56",
   "metadata": {},
   "outputs": [],
   "source": [
    "estimators = [('decision tree regressor',dtr),('linear regressor',lr),('support vector regressor',svr)]\n"
   ]
  },
  {
   "cell_type": "code",
   "execution_count": 15,
   "id": "a912ae56-1c46-4d07-ac94-63ca68351680",
   "metadata": {},
   "outputs": [
    {
     "name": "stdout",
     "output_type": "stream",
     "text": [
      "decision tree regressor : 0.08\n",
      "linear regressor : 0.36\n",
      "support vector regressor : -0.48\n"
     ]
    }
   ],
   "source": [
    "from sklearn.model_selection import cross_val_score\n",
    "for estimator in estimators:\n",
    "    score = cross_val_score(estimator[1],x,y,cv=10,scoring='r2')\n",
    "    print(f\"{estimator[0]} : {np.round(np.mean(score),2)}\")"
   ]
  },
  {
   "cell_type": "code",
   "execution_count": 16,
   "id": "72e812da-27be-4ef4-94ff-5a911b0452e0",
   "metadata": {},
   "outputs": [],
   "source": [
    "from sklearn.ensemble import VotingRegressor"
   ]
  },
  {
   "cell_type": "code",
   "execution_count": 17,
   "id": "28fc53cf-e4c2-42a1-a339-7561eff7d6c0",
   "metadata": {},
   "outputs": [],
   "source": [
    "reg = VotingRegressor(estimators=estimators)"
   ]
  },
  {
   "cell_type": "code",
   "execution_count": 18,
   "id": "727cbf59-bc3c-4c42-abbd-41620d3d1fad",
   "metadata": {},
   "outputs": [
    {
     "name": "stdout",
     "output_type": "stream",
     "text": [
      "0.35\n"
     ]
    }
   ],
   "source": [
    "score = cross_val_score(reg,x,y,cv=10,scoring='r2')\n",
    "print(np.round(np.mean(score),2))"
   ]
  },
  {
   "cell_type": "code",
   "execution_count": 19,
   "id": "6841df3a-e512-4ef0-8b4b-701a04d268f6",
   "metadata": {},
   "outputs": [
    {
     "name": "stdout",
     "output_type": "stream",
     "text": [
      "For i=1,j=1,k=1 0.36\n",
      "For i=1,j=1,k=2 0.23\n",
      "For i=1,j=1,k=3 0.14\n",
      "For i=1,j=2,k=1 0.4\n",
      "For i=1,j=2,k=2 0.32\n",
      "For i=1,j=2,k=3 0.23\n",
      "For i=1,j=3,k=1 0.42\n",
      "For i=1,j=3,k=2 0.35\n",
      "For i=1,j=3,k=3 0.29\n",
      "For i=2,j=1,k=1 0.35\n",
      "For i=2,j=1,k=2 0.3\n",
      "For i=2,j=1,k=3 0.23\n",
      "For i=2,j=2,k=1 0.41\n",
      "For i=2,j=2,k=2 0.38\n",
      "For i=2,j=2,k=3 0.3\n",
      "For i=2,j=3,k=1 0.43\n",
      "For i=2,j=3,k=2 0.4\n",
      "For i=2,j=3,k=3 0.34\n",
      "For i=3,j=1,k=1 0.34\n",
      "For i=3,j=1,k=2 0.31\n",
      "For i=3,j=1,k=3 0.27\n",
      "For i=3,j=2,k=1 0.39\n",
      "For i=3,j=2,k=2 0.36\n",
      "For i=3,j=2,k=3 0.32\n",
      "For i=3,j=3,k=1 0.45\n",
      "For i=3,j=3,k=2 0.39\n",
      "For i=3,j=3,k=3 0.36\n"
     ]
    }
   ],
   "source": [
    "for i in range(1,4):\n",
    "  for j in range(1,4):\n",
    "    for k in range(1,4):\n",
    "      vr = VotingRegressor(estimators,weights=[i,j,k])\n",
    "      scores = cross_val_score(vr,x,y,scoring='r2',cv=10)\n",
    "      print(\"For i={},j={},k={}\".format(i,j,k),np.round(np.mean(scores),2))"
   ]
  },
  {
   "cell_type": "code",
   "execution_count": 20,
   "id": "5a1fcf37-74a5-4d58-bc4a-b920fff30dca",
   "metadata": {},
   "outputs": [],
   "source": [
    "from sklearn.datasets import make_regression"
   ]
  },
  {
   "cell_type": "code",
   "execution_count": 21,
   "id": "e623705a-df4d-451a-b57e-11becdfb95be",
   "metadata": {},
   "outputs": [],
   "source": [
    "x,y = make_regression(n_samples=1000, n_features=4, n_informative=15, n_targets=1, noise=10)"
   ]
  },
  {
   "cell_type": "code",
   "execution_count": 22,
   "id": "7dc28a57-e1d1-4431-a1b0-884e9e930933",
   "metadata": {},
   "outputs": [
    {
     "data": {
      "text/plain": [
       "(1000, 4)"
      ]
     },
     "execution_count": 22,
     "metadata": {},
     "output_type": "execute_result"
    }
   ],
   "source": [
    "x.shape"
   ]
  },
  {
   "cell_type": "code",
   "execution_count": 23,
   "id": "0456fbad-0b51-4af9-89f7-47b5fceb9cd2",
   "metadata": {},
   "outputs": [
    {
     "data": {
      "text/plain": [
       "(1000,)"
      ]
     },
     "execution_count": 23,
     "metadata": {},
     "output_type": "execute_result"
    }
   ],
   "source": [
    "y.shape"
   ]
  },
  {
   "cell_type": "code",
   "execution_count": 26,
   "id": "1683629b-0227-4b7f-b27b-0fd174c6df08",
   "metadata": {},
   "outputs": [],
   "source": [
    "dtr1 = DecisionTreeRegressor(max_depth=3)\n",
    "dtr2 = DecisionTreeRegressor(max_depth=4)\n",
    "dtr3 = DecisionTreeRegressor(max_depth=5)\n",
    "dtr4 = DecisionTreeRegressor(max_depth=None)"
   ]
  },
  {
   "cell_type": "code",
   "execution_count": 27,
   "id": "e5f48137-3332-4a96-9d3e-fc78e502381d",
   "metadata": {},
   "outputs": [],
   "source": [
    "estimators = [('dt1',dtr1),('dt2',dtr2),('dt3',dtr3),('dt4',dtr4)]"
   ]
  },
  {
   "cell_type": "code",
   "execution_count": 28,
   "id": "37ba38c6-63c8-4676-87fd-430b2729524c",
   "metadata": {},
   "outputs": [
    {
     "name": "stdout",
     "output_type": "stream",
     "text": [
      "dt1: 0.5\n",
      "dt2: 0.56\n",
      "dt3: 0.65\n",
      "dt4: 0.81\n"
     ]
    }
   ],
   "source": [
    "for estimator in estimators:\n",
    "    score = cross_val_score(estimator[1],x,y,cv = 10,scoring=\"r2\")\n",
    "    print(f\"{estimator[0]}: {np.round(np.mean(score),2)}\")"
   ]
  },
  {
   "cell_type": "code",
   "execution_count": 29,
   "id": "706dffce-d448-4b70-8f8f-6e3e97fea03b",
   "metadata": {},
   "outputs": [
    {
     "name": "stdout",
     "output_type": "stream",
     "text": [
      "0.71\n"
     ]
    }
   ],
   "source": [
    "reg = VotingRegressor(estimators = estimators)\n",
    "score = cross_val_score(reg,x,y,cv=10,scoring=\"r2\")\n",
    "print(np.round(np.mean(score),2))"
   ]
  },
  {
   "cell_type": "code",
   "execution_count": null,
   "id": "76efdabe-3168-4b74-90b1-bfe0da16ae05",
   "metadata": {},
   "outputs": [],
   "source": []
  }
 ],
 "metadata": {
  "kernelspec": {
   "display_name": "Python 3 (ipykernel)",
   "language": "python",
   "name": "python3"
  },
  "language_info": {
   "codemirror_mode": {
    "name": "ipython",
    "version": 3
   },
   "file_extension": ".py",
   "mimetype": "text/x-python",
   "name": "python",
   "nbconvert_exporter": "python",
   "pygments_lexer": "ipython3",
   "version": "3.13.5"
  }
 },
 "nbformat": 4,
 "nbformat_minor": 5
}
